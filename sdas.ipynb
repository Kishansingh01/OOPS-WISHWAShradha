{
 "cells": [
  {
   "cell_type": "code",
   "execution_count": null,
   "metadata": {},
   "outputs": [],
   "source": []
  },
  {
   "cell_type": "code",
   "execution_count": 1,
   "metadata": {},
   "outputs": [
    {
     "name": "stdout",
     "output_type": "stream",
     "text": [
      "kishan\n"
     ]
    }
   ],
   "source": [
    "print(\"kishan\")"
   ]
  },
  {
   "cell_type": "code",
   "execution_count": 8,
   "metadata": {},
   "outputs": [
    {
     "ename": "NameError",
     "evalue": "name 'person' is not defined",
     "output_type": "error",
     "traceback": [
      "\u001b[1;31m---------------------------------------------------------------------------\u001b[0m",
      "\u001b[1;31mNameError\u001b[0m                                 Traceback (most recent call last)",
      "Cell \u001b[1;32mIn[8], line 1\u001b[0m\n\u001b[1;32m----> 1\u001b[0m \u001b[38;5;28;43;01mclass\u001b[39;49;00m\u001b[43m \u001b[49m\u001b[38;5;21;43;01mPerson\u001b[39;49;00m\u001b[43m:\u001b[49m\n\u001b[0;32m      2\u001b[0m \u001b[43m    \u001b[49m\u001b[38;5;28;43;01mdef\u001b[39;49;00m\u001b[43m \u001b[49m\u001b[38;5;21;43m__init__\u001b[39;49m\u001b[43m(\u001b[49m\u001b[38;5;28;43mself\u001b[39;49m\u001b[43m,\u001b[49m\u001b[43mname\u001b[49m\u001b[43m,\u001b[49m\u001b[43mage\u001b[49m\u001b[43m)\u001b[49m\u001b[43m:\u001b[49m\n\u001b[0;32m      3\u001b[0m \u001b[43m        \u001b[49m\u001b[38;5;28;43mself\u001b[39;49m\u001b[38;5;241;43m.\u001b[39;49m\u001b[43mname\u001b[49m\u001b[38;5;241;43m=\u001b[39;49m\u001b[43mname\u001b[49m\n",
      "Cell \u001b[1;32mIn[8], line 7\u001b[0m, in \u001b[0;36mPerson\u001b[1;34m()\u001b[0m\n\u001b[0;32m      5\u001b[0m \u001b[38;5;28;01mdef\u001b[39;00m \u001b[38;5;21mgaming\u001b[39m(\u001b[38;5;28mcls\u001b[39m):\n\u001b[0;32m      6\u001b[0m     \u001b[38;5;28mprint\u001b[39m(\u001b[38;5;124m\"\u001b[39m\u001b[38;5;124mi am the best i am the greatest\u001b[39m\u001b[38;5;124m\"\u001b[39m)\n\u001b[1;32m----> 7\u001b[0m \u001b[43mperson\u001b[49m\u001b[38;5;241m.\u001b[39mgaming()\n\u001b[0;32m      8\u001b[0m per\u001b[38;5;241m=\u001b[39mperson(\u001b[38;5;124m\"\u001b[39m\u001b[38;5;124mkishan\u001b[39m\u001b[38;5;124m\"\u001b[39m,\u001b[38;5;241m99\u001b[39m)\n\u001b[0;32m      9\u001b[0m per\u001b[38;5;241m.\u001b[39mgaming()\n",
      "\u001b[1;31mNameError\u001b[0m: name 'person' is not defined"
     ]
    }
   ],
   "source": [
    "class Person:\n",
    "    def __init__(self,name,age):\n",
    "        self.name=name\n",
    "        self.age=age\n",
    "    def gaming(cls):\n",
    "        print(\"i am the best i am the greatest\")\n",
    "    person.gaming()\n",
    "    per=person(\"kishan\",99)\n",
    "    per.gaming()\n",
    "    def massBunking():print(\"i bunked my class\")\n",
    "\n",
    "\n",
    "    class Cricket:\n",
    "        def__init__(self,player1,player2):\n",
    "        self.player1=player1\n",
    "        self.player2=player2\n",
    "\n",
    "\n",
    "        class Person:\n",
    "            def__init__(self,name,car)\n"
   ]
  },
  {
   "cell_type": "code",
   "execution_count": null,
   "metadata": {},
   "outputs": [],
   "source": [
    "class Rectangle:\n",
    "    def__init__(self,length,width):\n",
    "    self.__length=length\n",
    "    self.__breadth=width\n",
    "    def getlength(self)\n",
    "        return self.__length\n",
    "    def setlength(self,length):\n",
    "    self.__length=length\n",
    "    def getwidth(self)\n",
    "        return self.__width\n",
    "    def setlength(self,width):\n",
    "    self.__width=width\n",
    "    def area(self):\n",
    "        return self.__length*self._width\n",
    "    def perimeter(self):\n",
    "        return 2*(self.__length+self.__width)\n",
    "    "
   ]
  },
  {
   "cell_type": "code",
   "execution_count": null,
   "metadata": {},
   "outputs": [],
   "source": [
    "class Parent:\n",
    "    def eat(self)\n",
    "        print(\"all of us are dead\")\n",
    "    class child(parent)\n",
    "        pass\n",
    "child=child()\n",
    "\n"
   ]
  },
  {
   "cell_type": "code",
   "execution_count": null,
   "metadata": {},
   "outputs": [],
   "source": [
    "class student:\n",
    "    def met1(self)\n",
    "        print(\"This is a instancenmethod\")\n",
    "    def met2(cls):\n",
    "        print(\"This is a class method\")\n",
    "        "
   ]
  },
  {
   "cell_type": "code",
   "execution_count": null,
   "metadata": {},
   "outputs": [],
   "source": [
    "class Animal:\n",
    "    def__inite__(self,name):\n",
    "    self.name=name\n",
    "    def eat(self):\n",
    "        print(\"Animal is eating\")\n",
    "class Dog(Animal):\n",
    "     def__inite__(self,name,breed):\n",
    "     animal.__init__(self,name)#create parents first\n",
    "     self.breed=breed\n",
    "dog=dog(\"Tommy\",Bulldog)   \n",
    "dog.eat()\n",
    "print(dog.name) "
   ]
  },
  {
   "cell_type": "code",
   "execution_count": null,
   "metadata": {},
   "outputs": [],
   "source": [
    "class Animal:\n",
    "    def __init__(self,name):\n",
    "        self.name=name\n",
    "    def eat(self):\n",
    "        print(\"Animal is eating\")\n",
    "class Dog(Animal):\n",
    "     def __init__(self,name,breed):\n",
    "        Animal.__init__(self,name)#create parents first\n",
    "        self.breed=breed\n",
    "dog=dog(\"Tommy\",Bulldog)   \n",
    "dog.eat()\n",
    "print(dog.name) "
   ]
  },
  {
   "cell_type": "code",
   "execution_count": null,
   "metadata": {},
   "outputs": [],
   "source": [
    "def ram(self):\n",
    "    print(\"My parents \",super().country)\n",
    "    print(\"i live \",self.country)"
   ]
  },
  {
   "cell_type": "code",
   "execution_count": null,
   "metadata": {},
   "outputs": [],
   "source": [
    "class Parents:\n",
    "    def__init__(self,title,balance)\n",
    "    self.title=title\n",
    "    self."
   ]
  },
  {
   "cell_type": "code",
   "execution_count": null,
   "metadata": {},
   "outputs": [],
   "source": [
    "class Account:\n",
    "    def __init__(self,title=None,balance=0):\n",
    "        self.title=title\n",
    "        self.balance=balance\n",
    "        class SavingAccount(Account):\n",
    "            def __init__(self,title,balance,interestRate=0):\n",
    "                super().__init__(title,balance)\n",
    "                self.interestrate=interestRate\n",
    "        \n"
   ]
  },
  {
   "cell_type": "code",
   "execution_count": null,
   "metadata": {},
   "outputs": [],
   "source": [
    "class Account:\n",
    "    def __init__(self,title,balance=0):\n",
    "        self.title=title"
   ]
  },
  {
   "cell_type": "code",
   "execution_count": null,
   "metadata": {},
   "outputs": [],
   "source": [
    "class A:\n",
    "    def play(self):\n",
    "        print(\"A is playing\")\n",
    "\n",
    "class B:  \n",
    "    def play(self):\n",
    "        print(\"B is playing\")\n",
    "c=C()\n",
    "c.play()              "
   ]
  },
  {
   "cell_type": "code",
   "execution_count": null,
   "metadata": {},
   "outputs": [],
   "source": [
    "class A:\n",
    "    def play(self):\n",
    "        print(\"A is playing\")\n",
    "\n",
    "class B:  \n",
    "    def play(self):\n",
    "        print(\"B is playing\")\n",
    "c=C()\n",
    "c.play()              "
   ]
  },
  {
   "cell_type": "code",
   "execution_count": null,
   "metadata": {},
   "outputs": [],
   "source": []
  }
 ],
 "metadata": {
  "kernelspec": {
   "display_name": "Python 3",
   "language": "python",
   "name": "python3"
  },
  "language_info": {
   "codemirror_mode": {
    "name": "ipython",
    "version": 3
   },
   "file_extension": ".py",
   "mimetype": "text/x-python",
   "name": "python",
   "nbconvert_exporter": "python",
   "pygments_lexer": "ipython3",
   "version": "3.12.2"
  }
 },
 "nbformat": 4,
 "nbformat_minor": 2
}
